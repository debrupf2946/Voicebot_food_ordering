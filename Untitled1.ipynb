{
 "cells": [
  {
   "cell_type": "code",
   "execution_count": 1,
   "id": "f2faf327",
   "metadata": {},
   "outputs": [],
   "source": [
    "number_spellings = [\n",
    "    \"one\", \"two\", \"three\", \"four\", \"five\", \"six\", \"seven\", \"eight\", \"nine\", \"ten\",\n",
    "    \"eleven\", \"twelve\", \"thirteen\", \"fourteen\", \"fifteen\", \"sixteen\", \"seventeen\", \"eighteen\", \"nineteen\",\n",
    "    \"twenty\", \"twenty-one\", \"twenty-two\", \"twenty-three\", \"twenty-four\", \"twenty-five\", \"twenty-six\", \"twenty-seven\", \"twenty-eight\", \"twenty-nine\",\n",
    "    \"thirty\", \"thirty-one\", \"thirty-two\", \"thirty-three\", \"thirty-four\", \"thirty-five\", \"thirty-six\", \"thirty-seven\", \"thirty-eight\", \"thirty-nine\",\n",
    "    \"forty\", \"forty-one\", \"forty-two\", \"forty-three\", \"forty-four\", \"forty-five\", \"forty-six\", \"forty-seven\", \"forty-eight\", \"forty-nine\",\n",
    "    \"fifty\", \"fifty-one\", \"fifty-two\", \"fifty-three\", \"fifty-four\", \"fifty-five\", \"fifty-six\", \"fifty-seven\", \"fifty-eight\", \"fifty-nine\",\n",
    "    \"sixty\", \"sixty-one\", \"sixty-two\", \"sixty-three\", \"sixty-four\", \"sixty-five\", \"sixty-six\", \"sixty-seven\", \"sixty-eight\", \"sixty-nine\",\n",
    "    \"seventy\", \"seventy-one\", \"seventy-two\", \"seventy-three\", \"seventy-four\", \"seventy-five\", \"seventy-six\", \"seventy-seven\", \"seventy-eight\", \"seventy-nine\",\n",
    "    \"eighty\", \"eighty-one\", \"eighty-two\", \"eighty-three\", \"eighty-four\", \"eighty-five\", \"eighty-six\", \"eighty-seven\", \"eighty-eight\", \"eighty-nine\",\n",
    "    \"ninety\", \"ninety-one\", \"ninety-two\", \"ninety-three\", \"ninety-four\", \"ninety-five\", \"ninety-six\", \"ninety-seven\", \"ninety-eight\", \"ninety-nine\",\n",
    "    \"one hundred\"\n",
    "]\n"
   ]
  },
  {
   "cell_type": "code",
   "execution_count": 7,
   "id": "b62d4f67",
   "metadata": {},
   "outputs": [],
   "source": [
    "m={}"
   ]
  },
  {
   "cell_type": "code",
   "execution_count": 10,
   "id": "80209a39",
   "metadata": {},
   "outputs": [],
   "source": [
    "def sort_dict_by_value(input_dict):\n",
    "    sorted_dict = dict(sorted(input_dict.items(), key=lambda item: item[1], reverse=True))\n",
    "    return sorted_dict"
   ]
  },
  {
   "cell_type": "code",
   "execution_count": 8,
   "id": "d3cb864a",
   "metadata": {},
   "outputs": [],
   "source": [
    "from thefuzz import fuzz,process\n",
    "def check_sp(s):\n",
    "    for item in number_spellings:\n",
    "        #l[f\"{item}\"]=\n",
    "        #print(item)\n",
    "        #print(s)\n",
    "        #print(fuzz.ratio(s,item))\n",
    "        m[f\"{item}\"]=max(fuzz.token_sort_ratio(s,item),fuzz.ratio(s,item))\n",
    "    return list(sort_dict_by_value(m).keys())[0]"
   ]
  },
  {
   "cell_type": "code",
   "execution_count": 12,
   "id": "492381f7",
   "metadata": {},
   "outputs": [
    {
     "data": {
      "text/plain": [
       "'two'"
      ]
     },
     "execution_count": 12,
     "metadata": {},
     "output_type": "execute_result"
    }
   ],
   "source": [
    "check_sp(\"to\")"
   ]
  },
  {
   "cell_type": "code",
   "execution_count": 13,
   "id": "2d698c76",
   "metadata": {},
   "outputs": [],
   "source": [
    "number_dict = {\n",
    "    \"one\": 1, \"two\": 2, \"three\": 3, \"four\": 4, \"five\": 5,\n",
    "    \"six\": 6, \"seven\": 7, \"eight\": 8, \"nine\": 9, \"ten\": 10,\n",
    "    \"eleven\": 11, \"twelve\": 12, \"thirteen\": 13, \"fourteen\": 14, \"fifteen\": 15,\n",
    "    \"sixteen\": 16, \"seventeen\": 17, \"eighteen\": 18, \"nineteen\": 19, \"twenty\": 20,\n",
    "    \"twenty-one\": 21, \"twenty-two\": 22, \"twenty-three\": 23, \"twenty-four\": 24, \"twenty-five\": 25,\n",
    "    \"twenty-six\": 26, \"twenty-seven\": 27, \"twenty-eight\": 28, \"twenty-nine\": 29, \"thirty\": 30,\n",
    "    \"thirty-one\": 31, \"thirty-two\": 32, \"thirty-three\": 33, \"thirty-four\": 34, \"thirty-five\": 35,\n",
    "    \"thirty-six\": 36, \"thirty-seven\": 37, \"thirty-eight\": 38, \"thirty-nine\": 39, \"forty\": 40,\n",
    "    \"forty-one\": 41, \"forty-two\": 42, \"forty-three\": 43, \"forty-four\": 44, \"forty-five\": 45,\n",
    "    \"forty-six\": 46, \"forty-seven\": 47, \"forty-eight\": 48, \"forty-nine\": 49, \"fifty\": 50,\n",
    "    \"fifty-one\": 51, \"fifty-two\": 52, \"fifty-three\": 53, \"fifty-four\": 54, \"fifty-five\": 55,\n",
    "    \"fifty-six\": 56, \"fifty-seven\": 57, \"fifty-eight\": 58, \"fifty-nine\": 59, \"sixty\": 60,\n",
    "    \"sixty-one\": 61, \"sixty-two\": 62, \"sixty-three\": 63, \"sixty-four\": 64, \"sixty-five\": 65,\n",
    "    \"sixty-six\": 66, \"sixty-seven\": 67, \"sixty-eight\": 68, \"sixty-nine\": 69, \"seventy\": 70,\n",
    "    \"seventy-one\": 71, \"seventy-two\": 72, \"seventy-three\": 73, \"seventy-four\": 74, \"seventy-five\": 75,\n",
    "    \"seventy-six\": 76, \"seventy-seven\": 77, \"seventy-eight\": 78, \"seventy-nine\": 79, \"eighty\": 80,\n",
    "    \"eighty-one\": 81, \"eighty-two\": 82, \"eighty-three\": 83, \"eighty-four\": 84, \"eighty-five\": 85,\n",
    "    \"eighty-six\": 86, \"eighty-seven\": 87, \"eighty-eight\": 88, \"eighty-nine\": 89, \"ninety\": 90,\n",
    "    \"ninety-one\": 91, \"ninety-two\": 92, \"ninety-three\": 93, \"ninety-four\": 94, \"ninety-five\": 95,\n",
    "    \"ninety-six\": 96, \"ninety-seven\": 97, \"ninety-eight\": 98, \"ninety-nine\": 99, \"one hundred\": 100\n",
    "}\n"
   ]
  },
  {
   "cell_type": "code",
   "execution_count": 19,
   "id": "510eebfe",
   "metadata": {},
   "outputs": [
    {
     "name": "stdout",
     "output_type": "stream",
     "text": [
      "91\n"
     ]
    }
   ],
   "source": [
    "quant=number_dict[check_sp(\"ninty on\")]\n",
    "print(quant)"
   ]
  },
  {
   "cell_type": "code",
   "execution_count": 22,
   "id": "69c00b43",
   "metadata": {},
   "outputs": [],
   "source": [
    "def quantity(k):\n",
    "    quant=number_dict[check_sp(k)]\n",
    "    return quant"
   ]
  },
  {
   "cell_type": "code",
   "execution_count": 29,
   "id": "fdcbe017",
   "metadata": {},
   "outputs": [
    {
     "data": {
      "text/plain": [
       "19"
      ]
     },
     "execution_count": 29,
     "metadata": {},
     "output_type": "execute_result"
    }
   ],
   "source": [
    "quantity(\"nintin\")"
   ]
  },
  {
   "cell_type": "code",
   "execution_count": 70,
   "id": "5f287189",
   "metadata": {},
   "outputs": [],
   "source": [
    "l=[[\"vada\",230,2],[\"chowmien\",220,2]]"
   ]
  },
  {
   "cell_type": "code",
   "execution_count": 48,
   "id": "9aa4fbf9",
   "metadata": {},
   "outputs": [
    {
     "data": {
      "text/plain": [
       "['vada', 230, 2]"
      ]
     },
     "execution_count": 48,
     "metadata": {},
     "output_type": "execute_result"
    }
   ],
   "source": [
    "l[0]"
   ]
  },
  {
   "cell_type": "code",
   "execution_count": 44,
   "id": "6c885e4c",
   "metadata": {},
   "outputs": [
    {
     "data": {
      "text/plain": [
       "2"
      ]
     },
     "execution_count": 44,
     "metadata": {},
     "output_type": "execute_result"
    }
   ],
   "source": [
    "len(l)"
   ]
  },
  {
   "cell_type": "code",
   "execution_count": 71,
   "id": "b32feda7",
   "metadata": {},
   "outputs": [
    {
     "name": "stdout",
     "output_type": "stream",
     "text": [
      "0\n",
      "1\n"
     ]
    }
   ],
   "source": [
    "for i in range(0,len(l)):\n",
    "    if l[i][0]==\"chowmien\":\n",
    "        del l[i]\n",
    "    print(i)\n",
    "        \n",
    "    "
   ]
  },
  {
   "cell_type": "code",
   "execution_count": 72,
   "id": "15859080",
   "metadata": {},
   "outputs": [
    {
     "data": {
      "text/plain": [
       "[['vada', 230, 2]]"
      ]
     },
     "execution_count": 72,
     "metadata": {},
     "output_type": "execute_result"
    }
   ],
   "source": [
    "l"
   ]
  },
  {
   "cell_type": "code",
   "execution_count": 73,
   "id": "14a009be",
   "metadata": {},
   "outputs": [
    {
     "ename": "ValueError",
     "evalue": "invalid literal for int() with base 10: 'three'",
     "output_type": "error",
     "traceback": [
      "\u001b[0;31m---------------------------------------------------------------------------\u001b[0m",
      "\u001b[0;31mValueError\u001b[0m                                Traceback (most recent call last)",
      "Cell \u001b[0;32mIn[73], line 1\u001b[0m\n\u001b[0;32m----> 1\u001b[0m p\u001b[38;5;241m=\u001b[39m\u001b[38;5;28;43mint\u001b[39;49m\u001b[43m(\u001b[49m\u001b[38;5;124;43m\"\u001b[39;49m\u001b[38;5;124;43mthree\u001b[39;49m\u001b[38;5;124;43m\"\u001b[39;49m\u001b[43m)\u001b[49m\n\u001b[1;32m      2\u001b[0m p\n",
      "\u001b[0;31mValueError\u001b[0m: invalid literal for int() with base 10: 'three'"
     ]
    }
   ],
   "source": [
    "p=int(\"three\")\n",
    "p"
   ]
  },
  {
   "cell_type": "code",
   "execution_count": null,
   "id": "48e2604a",
   "metadata": {},
   "outputs": [],
   "source": []
  }
 ],
 "metadata": {
  "kernelspec": {
   "display_name": "Python 3 (ipykernel)",
   "language": "python",
   "name": "python3"
  },
  "language_info": {
   "codemirror_mode": {
    "name": "ipython",
    "version": 3
   },
   "file_extension": ".py",
   "mimetype": "text/x-python",
   "name": "python",
   "nbconvert_exporter": "python",
   "pygments_lexer": "ipython3",
   "version": "3.11.4"
  }
 },
 "nbformat": 4,
 "nbformat_minor": 5
}
