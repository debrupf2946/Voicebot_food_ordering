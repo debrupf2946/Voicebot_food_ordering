{
 "cells": [
  {
   "cell_type": "code",
   "execution_count": 1,
   "id": "befb0767",
   "metadata": {},
   "outputs": [
    {
     "name": "stdout",
     "output_type": "stream",
     "text": [
      "Collecting thefuzz\n",
      "  Obtaining dependency information for thefuzz from https://files.pythonhosted.org/packages/19/7d/ca50835332895beb87e663f9a610a7e0a7335b69e31177aee87acc3db9bd/thefuzz-0.20.0-py3-none-any.whl.metadata\n",
      "  Downloading thefuzz-0.20.0-py3-none-any.whl.metadata (3.9 kB)\n",
      "Collecting rapidfuzz<4.0.0,>=3.0.0 (from thefuzz)\n",
      "  Obtaining dependency information for rapidfuzz<4.0.0,>=3.0.0 from https://files.pythonhosted.org/packages/9c/cf/b4f5766b8932845abaa39b707a09eac10d0311becd294e54f08b118ded2d/rapidfuzz-3.2.0-cp311-cp311-macosx_11_0_arm64.whl.metadata\n",
      "  Downloading rapidfuzz-3.2.0-cp311-cp311-macosx_11_0_arm64.whl.metadata (11 kB)\n",
      "Downloading thefuzz-0.20.0-py3-none-any.whl (15 kB)\n",
      "Downloading rapidfuzz-3.2.0-cp311-cp311-macosx_11_0_arm64.whl (1.1 MB)\n",
      "\u001b[2K   \u001b[90m━━━━━━━━━━━━━━━━━━━━━━━━━━━━━━━━━━━━━━━━\u001b[0m \u001b[32m1.1/1.1 MB\u001b[0m \u001b[31m4.2 MB/s\u001b[0m eta \u001b[36m0:00:00\u001b[0ma \u001b[36m0:00:01\u001b[0m\n",
      "\u001b[?25hInstalling collected packages: rapidfuzz, thefuzz\n",
      "Successfully installed rapidfuzz-3.2.0 thefuzz-0.20.0\n",
      "Note: you may need to restart the kernel to use updated packages.\n"
     ]
    }
   ],
   "source": [
    "pip install thefuzz"
   ]
  },
  {
   "cell_type": "code",
   "execution_count": 11,
   "id": "1366284f",
   "metadata": {},
   "outputs": [],
   "source": [
    "import pandas as pd"
   ]
  },
  {
   "cell_type": "code",
   "execution_count": 12,
   "id": "bc46e583",
   "metadata": {},
   "outputs": [],
   "source": [
    "df=pd.read_csv(\"/Users/debruppaul/Downloads/my_menu.csv\")\n",
    "menu=df[\"Food Item\"]\n",
    "m2=menu.to_list()"
   ]
  },
  {
   "cell_type": "code",
   "execution_count": 2,
   "id": "93a13dfe",
   "metadata": {},
   "outputs": [],
   "source": [
    "s1=\"Soan Halwa 18g\"\n",
    "s2=\"so halw\""
   ]
  },
  {
   "cell_type": "code",
   "execution_count": 4,
   "id": "f14c725b",
   "metadata": {},
   "outputs": [
    {
     "name": "stdout",
     "output_type": "stream",
     "text": [
      "48\n"
     ]
    }
   ],
   "source": [
    "from thefuzz import fuzz,process\n",
    "print(fuzz.ratio(s1,s2))"
   ]
  },
  {
   "cell_type": "code",
   "execution_count": 6,
   "id": "a536374b",
   "metadata": {},
   "outputs": [],
   "source": [
    "l={}"
   ]
  },
  {
   "cell_type": "code",
   "execution_count": 68,
   "id": "8cd26fd8",
   "metadata": {},
   "outputs": [],
   "source": [
    "def check(s):\n",
    "    for item in m2:\n",
    "        #l[f\"{item}\"]=\n",
    "        #print(item)\n",
    "        #print(s)\n",
    "        #print(fuzz.ratio(s,item))\n",
    "        l[f\"{item}\"]=max(fuzz.token_sort_ratio(s,item),fuzz.ratio(s,item))\n",
    "    return list(sort_dict_by_value(l).keys())[0]"
   ]
  },
  {
   "cell_type": "code",
   "execution_count": 53,
   "id": "a95cf577",
   "metadata": {},
   "outputs": [],
   "source": [
    "def sort_dict_by_value(input_dict):\n",
    "    sorted_dict = dict(sorted(input_dict.items(), key=lambda item: item[1], reverse=True))\n",
    "    return sorted_dict\n"
   ]
  },
  {
   "cell_type": "code",
   "execution_count": 74,
   "id": "36e27a6f",
   "metadata": {},
   "outputs": [
    {
     "data": {
      "text/plain": [
       "'Kaju Lemon'"
      ]
     },
     "execution_count": 74,
     "metadata": {},
     "output_type": "execute_result"
    }
   ],
   "source": [
    "check(\"lemo kij\")"
   ]
  },
  {
   "cell_type": "code",
   "execution_count": 60,
   "id": "bbe15056",
   "metadata": {},
   "outputs": [
    {
     "ename": "KeyError",
     "evalue": "1",
     "output_type": "error",
     "traceback": [
      "\u001b[0;31m---------------------------------------------------------------------------\u001b[0m",
      "\u001b[0;31mKeyError\u001b[0m                                  Traceback (most recent call last)",
      "Cell \u001b[0;32mIn[60], line 1\u001b[0m\n\u001b[0;32m----> 1\u001b[0m \u001b[43msort_dict_by_value\u001b[49m\u001b[43m(\u001b[49m\u001b[43md\u001b[49m\u001b[43m)\u001b[49m\u001b[43m[\u001b[49m\u001b[38;5;241;43m1\u001b[39;49m\u001b[43m]\u001b[49m\n",
      "\u001b[0;31mKeyError\u001b[0m: 1"
     ]
    }
   ],
   "source": []
  },
  {
   "cell_type": "code",
   "execution_count": 61,
   "id": "f830f4a8",
   "metadata": {},
   "outputs": [
    {
     "data": {
      "text/plain": [
       "'Lassi Masala'"
      ]
     },
     "execution_count": 61,
     "metadata": {},
     "output_type": "execute_result"
    }
   ],
   "source": [
    "list(sort_dict_by_value(d).keys())[0]"
   ]
  },
  {
   "cell_type": "code",
   "execution_count": 75,
   "id": "84ddf4d9",
   "metadata": {},
   "outputs": [
    {
     "data": {
      "application/vnd.jupyter.widget-view+json": {
       "model_id": "be4a4b093e374ab0b51736300763775b",
       "version_major": 2,
       "version_minor": 0
      },
      "text/plain": [
       "Downloading (…)rocessor_config.json:   0%|          | 0.00/185k [00:00<?, ?B/s]"
      ]
     },
     "metadata": {},
     "output_type": "display_data"
    },
    {
     "data": {
      "application/vnd.jupyter.widget-view+json": {
       "model_id": "b0ca9bd594e446c4bd34c3345c29e535",
       "version_major": 2,
       "version_minor": 0
      },
      "text/plain": [
       "Downloading (…)okenizer_config.json:   0%|          | 0.00/800 [00:00<?, ?B/s]"
      ]
     },
     "metadata": {},
     "output_type": "display_data"
    },
    {
     "data": {
      "application/vnd.jupyter.widget-view+json": {
       "model_id": "81b86692946c4d0ea734fcbd3b06f1ac",
       "version_major": 2,
       "version_minor": 0
      },
      "text/plain": [
       "Downloading (…)olve/main/vocab.json:   0%|          | 0.00/836k [00:00<?, ?B/s]"
      ]
     },
     "metadata": {},
     "output_type": "display_data"
    },
    {
     "data": {
      "application/vnd.jupyter.widget-view+json": {
       "model_id": "8ae6f236a70e41349afee79acaa154de",
       "version_major": 2,
       "version_minor": 0
      },
      "text/plain": [
       "Downloading (…)/main/tokenizer.json:   0%|          | 0.00/2.20M [00:00<?, ?B/s]"
      ]
     },
     "metadata": {},
     "output_type": "display_data"
    },
    {
     "data": {
      "application/vnd.jupyter.widget-view+json": {
       "model_id": "2c6448bb0cca45178e7964a867eabd34",
       "version_major": 2,
       "version_minor": 0
      },
      "text/plain": [
       "Downloading (…)olve/main/merges.txt:   0%|          | 0.00/494k [00:00<?, ?B/s]"
      ]
     },
     "metadata": {},
     "output_type": "display_data"
    },
    {
     "data": {
      "application/vnd.jupyter.widget-view+json": {
       "model_id": "9f7e77bf2d1c4f23add54486b56683d8",
       "version_major": 2,
       "version_minor": 0
      },
      "text/plain": [
       "Downloading (…)main/normalizer.json:   0%|          | 0.00/52.7k [00:00<?, ?B/s]"
      ]
     },
     "metadata": {},
     "output_type": "display_data"
    },
    {
     "data": {
      "application/vnd.jupyter.widget-view+json": {
       "model_id": "c31bef003ab64ae98b40f2cf428290fc",
       "version_major": 2,
       "version_minor": 0
      },
      "text/plain": [
       "Downloading (…)in/added_tokens.json:   0%|          | 0.00/2.08k [00:00<?, ?B/s]"
      ]
     },
     "metadata": {},
     "output_type": "display_data"
    },
    {
     "data": {
      "application/vnd.jupyter.widget-view+json": {
       "model_id": "563a7c89b4944e91abd183b11d919df9",
       "version_major": 2,
       "version_minor": 0
      },
      "text/plain": [
       "Downloading (…)cial_tokens_map.json:   0%|          | 0.00/2.08k [00:00<?, ?B/s]"
      ]
     },
     "metadata": {},
     "output_type": "display_data"
    },
    {
     "data": {
      "application/vnd.jupyter.widget-view+json": {
       "model_id": "75012d369a534387af688670474a3770",
       "version_major": 2,
       "version_minor": 0
      },
      "text/plain": [
       "Downloading (…)lve/main/config.json:   0%|          | 0.00/1.99k [00:00<?, ?B/s]"
      ]
     },
     "metadata": {},
     "output_type": "display_data"
    },
    {
     "data": {
      "application/vnd.jupyter.widget-view+json": {
       "model_id": "aa4c8e223e564d108c8980c99fb6a0d6",
       "version_major": 2,
       "version_minor": 0
      },
      "text/plain": [
       "Downloading model.safetensors:   0%|          | 0.00/6.17G [00:00<?, ?B/s]"
      ]
     },
     "metadata": {},
     "output_type": "display_data"
    },
    {
     "data": {
      "application/vnd.jupyter.widget-view+json": {
       "model_id": "d17f01d631074278aa4cd54923f14053",
       "version_major": 2,
       "version_minor": 0
      },
      "text/plain": [
       "Downloading (…)neration_config.json:   0%|          | 0.00/4.26k [00:00<?, ?B/s]"
      ]
     },
     "metadata": {},
     "output_type": "display_data"
    }
   ],
   "source": [
    "# Load model directly\n",
    "from transformers import AutoProcessor, AutoModelForSpeechSeq2Seq\n",
    "\n",
    "processor = AutoProcessor.from_pretrained(\"openai/whisper-large-v2\")\n",
    "model = AutoModelForSpeechSeq2Seq.from_pretrained(\"openai/whisper-large-v2\")"
   ]
  },
  {
   "cell_type": "code",
   "execution_count": null,
   "id": "228a539e",
   "metadata": {},
   "outputs": [],
   "source": []
  }
 ],
 "metadata": {
  "kernelspec": {
   "display_name": "Python 3 (ipykernel)",
   "language": "python",
   "name": "python3"
  },
  "language_info": {
   "codemirror_mode": {
    "name": "ipython",
    "version": 3
   },
   "file_extension": ".py",
   "mimetype": "text/x-python",
   "name": "python",
   "nbconvert_exporter": "python",
   "pygments_lexer": "ipython3",
   "version": "3.11.4"
  }
 },
 "nbformat": 4,
 "nbformat_minor": 5
}
